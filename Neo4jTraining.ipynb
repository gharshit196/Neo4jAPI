{
  "nbformat": 4,
  "nbformat_minor": 0,
  "metadata": {
    "colab": {
      "name": "Neo4j Y",
      "provenance": [],
      "authorship_tag": "ABX9TyPkqNsKNIrCMWGbzwWzhI42",
      "include_colab_link": true
    },
    "kernelspec": {
      "name": "python3",
      "display_name": "Python 3"
    },
    "language_info": {
      "name": "python"
    }
  },
  "cells": [
    {
      "cell_type": "markdown",
      "metadata": {
        "id": "view-in-github",
        "colab_type": "text"
      },
      "source": [
        "<a href=\"https://colab.research.google.com/github/gharshit196/Neo4jAPI/blob/main/Neo4jTraining.ipynb\" target=\"_parent\"><img src=\"https://colab.research.google.com/assets/colab-badge.svg\" alt=\"Open In Colab\"/></a>"
      ]
    },
    {
      "cell_type": "code",
      "metadata": {
        "id": "3XrTECsQx9t0"
      },
      "source": [
        "!pip install neo4j\n",
        "!pip install flask \n"
      ],
      "execution_count": null,
      "outputs": []
    },
    {
      "cell_type": "code",
      "metadata": {
        "id": "qFZuxldtyPqm"
      },
      "source": [
        "from flask import Flask, request, jsonify, redirect, render_template\n",
        "from neo4j import GraphDatabase \n",
        "import csv \n",
        "\n",
        "#graph = Graph()\n",
        "#user = node ('User', username = 'Harshit')\n",
        "#post = node ('User', text = 'Hello World')\n",
        "#graph.create(Relationship(user, 'Published', post))"
      ],
      "execution_count": null,
      "outputs": []
    },
    {
      "cell_type": "code",
      "metadata": {
        "id": "RWMquNVFWiQb"
      },
      "source": [
        "with open (\"cred.txt\") as f1:\n",
        "  data = csv.reader(f1, delimiter = \",\")\n",
        "  for row in data:\n",
        "    username = row[0]\n",
        "    password = row[1]\n",
        "    uri = row[2]\n",
        "print(username, password, uri)"
      ],
      "execution_count": null,
      "outputs": []
    },
    {
      "cell_type": "code",
      "metadata": {
        "id": "Tsh5zgTgXJ2W"
      },
      "source": [
        "driver = GraphDatabase.driver(\"bolt://44.192.43.237:7687\", auth=(username, password)) \n",
        "session=driver.session()"
      ],
      "execution_count": null,
      "outputs": []
    },
    {
      "cell_type": "code",
      "metadata": {
        "id": "6egQHjX_aOZl"
      },
      "source": [
        "api = Flask(__name__)\n",
        "@api.route(\"/create/<string:name>&<int:id>\", methods=[\"GET\",\"POST\"])\n",
        "def create_node(name, id):\n",
        "  q1=\"\"\"\n",
        "  create (n:Employee{NAME:$name, ID:$id})\n",
        "  \"\"\"\n",
        "  map={\"name\":name, \"id\":id}\n",
        "  try: \n",
        "    session.run(q1, map)\n",
        "    return (f\"employee node is created with employee name={name} and id={id}\")\n",
        "  except Exception as e:\n",
        "    return (str(e))\n",
        "\n",
        "@api.route(\"/display\",methods=[\"GET\",\"POST\"])\n",
        "def display_node():\n",
        "  q1=\"\"\"\n",
        "  match (n) return n.NAME as NAME, n.ID as ID\n",
        "  \"\"\"\n",
        "  results = session.run(q1)\n",
        "  data=results.data()\n",
        "  return(jsonify(data))\n",
        "\n",
        "api.run(debug=False)\n",
        "if __name__ == \"__main__\":\n",
        "  api.run()"
      ],
      "execution_count": null,
      "outputs": []
    }
  ]
}