{
  "nbformat": 4,
  "nbformat_minor": 0,
  "metadata": {
    "colab": {
      "name": "Neo4j Y",
      "provenance": [],
      "authorship_tag": "ABX9TyMeguyj+/vbldQByOSB2hXS",
      "include_colab_link": true
    },
    "kernelspec": {
      "name": "python3",
      "display_name": "Python 3"
    },
    "language_info": {
      "name": "python"
    }
  },
  "cells": [
    {
      "cell_type": "markdown",
      "metadata": {
        "id": "view-in-github",
        "colab_type": "text"
      },
      "source": [
        "<a href=\"https://colab.research.google.com/github/gharshit196/Neo4jAPI/blob/main/Neo4jTesting.ipynb\" target=\"_parent\"><img src=\"https://colab.research.google.com/assets/colab-badge.svg\" alt=\"Open In Colab\"/></a>"
      ]
    },
    {
      "cell_type": "code",
      "metadata": {
        "colab": {
          "base_uri": "https://localhost:8080/"
        },
        "id": "3XrTECsQx9t0",
        "outputId": "8db23893-1dab-4152-8213-a2c43278fae4"
      },
      "source": [
        "!pip install neo4j\n",
        "!pip install flask \n"
      ],
      "execution_count": 22,
      "outputs": [
        {
          "output_type": "stream",
          "text": [
            "Requirement already satisfied: neo4j in /usr/local/lib/python3.7/dist-packages (4.3.1)\n",
            "Requirement already satisfied: pytz in /usr/local/lib/python3.7/dist-packages (from neo4j) (2018.9)\n",
            "Requirement already satisfied: flask in /usr/local/lib/python3.7/dist-packages (1.1.4)\n",
            "Requirement already satisfied: Jinja2<3.0,>=2.10.1 in /usr/local/lib/python3.7/dist-packages (from flask) (2.11.3)\n",
            "Requirement already satisfied: itsdangerous<2.0,>=0.24 in /usr/local/lib/python3.7/dist-packages (from flask) (1.1.0)\n",
            "Requirement already satisfied: click<8.0,>=5.1 in /usr/local/lib/python3.7/dist-packages (from flask) (7.1.2)\n",
            "Requirement already satisfied: Werkzeug<2.0,>=0.15 in /usr/local/lib/python3.7/dist-packages (from flask) (1.0.1)\n",
            "Requirement already satisfied: MarkupSafe>=0.23 in /usr/local/lib/python3.7/dist-packages (from Jinja2<3.0,>=2.10.1->flask) (2.0.1)\n"
          ],
          "name": "stdout"
        }
      ]
    },
    {
      "cell_type": "code",
      "metadata": {
        "id": "qFZuxldtyPqm"
      },
      "source": [
        "from flask import Flask, request, jsonify, redirect, render_template\n",
        "from neo4j import GraphDatabase \n",
        "import csv \n",
        "\n",
        "#graph = Graph()\n",
        "#user = node ('User', username = 'Harshit')\n",
        "#post = node ('User', text = 'Hello World')\n",
        "#graph.create(Relationship(user, 'Published', post))"
      ],
      "execution_count": 23,
      "outputs": []
    },
    {
      "cell_type": "code",
      "metadata": {
        "colab": {
          "base_uri": "https://localhost:8080/"
        },
        "id": "RWMquNVFWiQb",
        "outputId": "a16d1c86-8a48-430f-9400-786946229a01"
      },
      "source": [
        "with open (\"cred.txt\") as f1:\n",
        "  data = csv.reader(f1, delimiter = \",\")\n",
        "  for row in data:\n",
        "    username = row[0]\n",
        "    password = row[1]\n",
        "    uri = row[2]\n",
        "print(username, password, uri)"
      ],
      "execution_count": 24,
      "outputs": [
        {
          "output_type": "stream",
          "text": [
            "neo4j  anthem-muscle-name  bolt://44.192.43.237:7687\n"
          ],
          "name": "stdout"
        }
      ]
    },
    {
      "cell_type": "code",
      "metadata": {
        "id": "Tsh5zgTgXJ2W"
      },
      "source": [
        "driver = GraphDatabase.driver(\"bolt://44.192.43.237:7687\", auth=(username, password)) \n",
        "session=driver.session()"
      ],
      "execution_count": 25,
      "outputs": []
    },
    {
      "cell_type": "code",
      "metadata": {
        "colab": {
          "base_uri": "https://localhost:8080/"
        },
        "id": "6egQHjX_aOZl",
        "outputId": "26d704e5-d898-457c-ccbe-8e82eba86f28"
      },
      "source": [
        "api = Flask(__name__)\n",
        "@api.route(\"/create/<string:name>&<int:id>\", methods=[\"GET\",\"POST\"])\n",
        "def create_node(name, id):\n",
        "  q1=\"\"\"\n",
        "  create (n:Employee{NAME:$name, ID:$id})\n",
        "  \"\"\"\n",
        "  map={\"name\":name, \"id\":id}\n",
        "  try: \n",
        "    session.run(q1, map)\n",
        "    return (f\"employee node is created with employee name={name} and id={id}\")\n",
        "  except Exception as e:\n",
        "    return (str(e))\n",
        "\n",
        "@api.route(\"/display\",methods=[\"GET\",\"POST\"])\n",
        "def display_node():\n",
        "  q1=\"\"\"\n",
        "  match (n) return n.NAME as NAME, n.ID as ID\n",
        "  \"\"\"\n",
        "  results = session.run(q1)\n",
        "  data=results.data()\n",
        "  return(jsonify(data))\n",
        "\n",
        "api.run(debug=False)\n",
        "if __name__ == \"__main__\":\n",
        "  api.run()"
      ],
      "execution_count": 34,
      "outputs": [
        {
          "output_type": "stream",
          "text": [
            " * Serving Flask app \"__main__\" (lazy loading)\n",
            " * Environment: production\n",
            "\u001b[31m   WARNING: This is a development server. Do not use it in a production deployment.\u001b[0m\n",
            "\u001b[2m   Use a production WSGI server instead.\u001b[0m\n",
            " * Debug mode: off\n"
          ],
          "name": "stdout"
        },
        {
          "output_type": "stream",
          "text": [
            " * Running on http://127.0.0.1:5000/ (Press CTRL+C to quit)\n"
          ],
          "name": "stderr"
        },
        {
          "output_type": "stream",
          "text": [
            " * Serving Flask app \"__main__\" (lazy loading)\n",
            " * Environment: production\n",
            "\u001b[31m   WARNING: This is a development server. Do not use it in a production deployment.\u001b[0m\n",
            "\u001b[2m   Use a production WSGI server instead.\u001b[0m\n",
            " * Debug mode: off\n"
          ],
          "name": "stdout"
        },
        {
          "output_type": "stream",
          "text": [
            " * Running on http://127.0.0.1:5000/ (Press CTRL+C to quit)\n"
          ],
          "name": "stderr"
        }
      ]
    },
    {
      "cell_type": "code",
      "metadata": {
        "id": "oUlJV8Waakan"
      },
      "source": [
        ""
      ],
      "execution_count": null,
      "outputs": []
    }
  ]
}